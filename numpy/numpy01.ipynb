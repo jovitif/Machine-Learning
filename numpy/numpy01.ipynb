{
 "cells": [
  {
   "cell_type": "code",
   "execution_count": 1,
   "metadata": {},
   "outputs": [],
   "source": [
    "import numpy as np"
   ]
  },
  {
   "cell_type": "code",
   "execution_count": 10,
   "metadata": {},
   "outputs": [
    {
     "name": "stdout",
     "output_type": "stream",
     "text": [
      "[1 2 3 4 5]  , \n",
      "[[1 2 3 4 5]\n",
      " [1 3 5 4 5]]  , \n",
      "[[1 2 3 4 5]\n",
      " [1 3 5 3 2]\n",
      " [2 4 4 5 2]]  , \n"
     ]
    }
   ],
   "source": [
    "array1 = np.array([1,2,3,4,5])\n",
    "array2 = np.array([[1,2,3,4,5],[1,3,5,4,5]])\n",
    "array3 = np.array([[1,2,3,4,5],[1,3,5,3,2],[2,4,4,5,2]])\n",
    "print(array1 ,\" , \")\n",
    "print(array2, \" , \")\n",
    "print(array3, \" , \")\n"
   ]
  },
  {
   "cell_type": "code",
   "execution_count": 11,
   "metadata": {},
   "outputs": [
    {
     "name": "stdout",
     "output_type": "stream",
     "text": [
      "[[0. 0. 0.]\n",
      " [0. 0. 0.]\n",
      " [0. 0. 0.]]\n",
      "[[1. 1. 1. 1.]\n",
      " [1. 1. 1. 1.]]\n",
      "[[0.3416989  0.44016878 0.22809532]\n",
      " [0.87610457 0.76520766 0.50178242]\n",
      " [0.34746608 0.6747917  0.67719872]]\n"
     ]
    }
   ],
   "source": [
    "# Criando um array com zeros\n",
    "arr_zeros = np.zeros((3, 3))\n",
    "\n",
    "# Criando um array com uns\n",
    "arr_ones = np.ones((2, 4))\n",
    "\n",
    "# Criando um array com valores aleatórios\n",
    "arr_random = np.random.rand(3, 3)\n",
    "\n",
    "print(arr_zeros)\n",
    "print(arr_ones)\n",
    "print(arr_random)"
   ]
  },
  {
   "cell_type": "code",
   "execution_count": 12,
   "metadata": {},
   "outputs": [],
   "source": [
    "# Operações aritméticas\n",
    "arr = np.array([1, 2, 3, 4, 5])\n",
    "arr_sum = arr + 10\n",
    "arr_product = arr * 2\n",
    "\n",
    "# Funções estatísticas\n",
    "mean = np.mean(arr)\n",
    "std_dev = np.std(arr)\n",
    "\n",
    "# Álgebra linear\n",
    "matrix = np.array([[1, 2], [3, 4]])\n",
    "det = np.linalg.det(matrix)\n",
    "\n",
    "# Broadcasting\n",
    "arr1 = np.array([1, 2, 3])\n",
    "arr2 = np.array([4, 5, 6])\n",
    "result = arr1 + arr2  # [5, 7, 9]"
   ]
  }
 ],
 "metadata": {
  "kernelspec": {
   "display_name": "Python 3",
   "language": "python",
   "name": "python3"
  },
  "language_info": {
   "codemirror_mode": {
    "name": "ipython",
    "version": 3
   },
   "file_extension": ".py",
   "mimetype": "text/x-python",
   "name": "python",
   "nbconvert_exporter": "python",
   "pygments_lexer": "ipython3",
   "version": "3.11.1"
  }
 },
 "nbformat": 4,
 "nbformat_minor": 2
}
